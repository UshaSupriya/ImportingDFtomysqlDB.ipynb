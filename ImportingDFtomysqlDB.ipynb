{
  "cells": [
    {
      "cell_type": "markdown",
      "metadata": {
        "id": "view-in-github",
        "colab_type": "text"
      },
      "source": [
        "<a href=\"https://colab.research.google.com/github/UshaSupriya/ImportingDFtomysqlDB.ipynb/blob/main/ImportingDFtomysqlDB.ipynb\" target=\"_parent\"><img src=\"https://colab.research.google.com/assets/colab-badge.svg\" alt=\"Open In Colab\"/></a>"
      ]
    },
    {
      "cell_type": "code",
      "execution_count": null,
      "metadata": {
        "id": "HmKE8Rv-jheD",
        "outputId": "6dc10148-4cec-4799-f453-98406037e4d9"
      },
      "outputs": [
        {
          "name": "stdout",
          "output_type": "stream",
          "text": [
            "Requirement already satisfied: PyMySQL in c:\\users\\ushas\\anaconda3\\lib\\site-packages (1.0.2)\n"
          ]
        }
      ],
      "source": [
        "!pip install PyMySQL"
      ]
    },
    {
      "cell_type": "code",
      "execution_count": null,
      "metadata": {
        "id": "hfNrMiO8jheI"
      },
      "outputs": [],
      "source": [
        "import pymysql\n",
        "import pandas as pd"
      ]
    },
    {
      "cell_type": "code",
      "execution_count": null,
      "metadata": {
        "id": "aD3xNqqujheJ",
        "outputId": "75356f67-7d77-4f2a-8ccc-182f7c8c1de3"
      },
      "outputs": [
        {
          "data": {
            "text/plain": [
              "<pymysql.connections.Connection at 0x19170146eb0>"
            ]
          },
          "execution_count": 3,
          "metadata": {},
          "output_type": "execute_result"
        }
      ],
      "source": [
        "pymysql.connect(host='hostname', user='username', passwd='pwd',db= 'dbname',port=3306)"
      ]
    },
    {
      "cell_type": "code",
      "execution_count": null,
      "metadata": {
        "id": "rAnyfk4tjheK"
      },
      "outputs": [],
      "source": [
        "conn = pymysql.connect(host='hostname', user='username', passwd='pwd',db= 'dbname',port=3306)"
      ]
    },
    {
      "cell_type": "code",
      "execution_count": null,
      "metadata": {
        "id": "abEa7U-1jheK"
      },
      "outputs": [],
      "source": [
        "curr = conn.cursor()"
      ]
    },
    {
      "cell_type": "code",
      "execution_count": null,
      "metadata": {
        "id": "5dYKUpobjheL",
        "outputId": "344bf979-f12f-4c7c-957b-560f35ee6267"
      },
      "outputs": [
        {
          "data": {
            "text/plain": [
              "<pymysql.cursors.Cursor at 0x1917a2da820>"
            ]
          },
          "execution_count": 37,
          "metadata": {},
          "output_type": "execute_result"
        }
      ],
      "source": [
        "curr"
      ]
    },
    {
      "cell_type": "code",
      "execution_count": null,
      "metadata": {
        "id": "CKQpQvAyjheL",
        "outputId": "5a0dbf37-5699-44a1-b613-6c0274b1b533"
      },
      "outputs": [
        {
          "data": {
            "text/html": [
              "<div>\n",
              "<style scoped>\n",
              "    .dataframe tbody tr th:only-of-type {\n",
              "        vertical-align: middle;\n",
              "    }\n",
              "\n",
              "    .dataframe tbody tr th {\n",
              "        vertical-align: top;\n",
              "    }\n",
              "\n",
              "    .dataframe thead th {\n",
              "        text-align: right;\n",
              "    }\n",
              "</style>\n",
              "<table border=\"1\" class=\"dataframe\">\n",
              "  <thead>\n",
              "    <tr style=\"text-align: right;\">\n",
              "      <th></th>\n",
              "      <th>video_id</th>\n",
              "      <th>video_title</th>\n",
              "      <th>upload_date</th>\n",
              "      <th>view_count</th>\n",
              "      <th>like_count</th>\n",
              "      <th>dislike_count</th>\n",
              "      <th>comment_count</th>\n",
              "    </tr>\n",
              "  </thead>\n",
              "  <tbody>\n",
              "    <tr>\n",
              "      <th>0</th>\n",
              "      <td>jN5hpgBrz8k</td>\n",
              "      <td>Dealing With Python Date Manipulations In a Me...</td>\n",
              "      <td>2022-03-22</td>\n",
              "      <td>3247</td>\n",
              "      <td>105</td>\n",
              "      <td>0</td>\n",
              "      <td>20</td>\n",
              "    </tr>\n",
              "    <tr>\n",
              "      <th>1</th>\n",
              "      <td>yFyyP_Uvxj0</td>\n",
              "      <td>How To Solve Data Science Probability Intervie...</td>\n",
              "      <td>2022-03-10</td>\n",
              "      <td>2025</td>\n",
              "      <td>62</td>\n",
              "      <td>0</td>\n",
              "      <td>2</td>\n",
              "    </tr>\n",
              "    <tr>\n",
              "      <th>2</th>\n",
              "      <td>Av92CaPTRr8</td>\n",
              "      <td>How to use SQL window functions: RANK vs DENSE...</td>\n",
              "      <td>2022-03-02</td>\n",
              "      <td>2620</td>\n",
              "      <td>76</td>\n",
              "      <td>0</td>\n",
              "      <td>9</td>\n",
              "    </tr>\n",
              "    <tr>\n",
              "      <th>3</th>\n",
              "      <td>VEjxlKBkZGM</td>\n",
              "      <td>Amazon Data Science Interview Question Walkthr...</td>\n",
              "      <td>2022-02-08</td>\n",
              "      <td>5707</td>\n",
              "      <td>179</td>\n",
              "      <td>0</td>\n",
              "      <td>20</td>\n",
              "    </tr>\n",
              "    <tr>\n",
              "      <th>4</th>\n",
              "      <td>hMUf7DqG1nQ</td>\n",
              "      <td>SQL Basics: How to Join Multiple Tables in SQL...</td>\n",
              "      <td>2022-01-27</td>\n",
              "      <td>3252</td>\n",
              "      <td>90</td>\n",
              "      <td>0</td>\n",
              "      <td>6</td>\n",
              "    </tr>\n",
              "  </tbody>\n",
              "</table>\n",
              "</div>"
            ],
            "text/plain": [
              "      video_id                                        video_title upload_date  \\\n",
              "0  jN5hpgBrz8k  Dealing With Python Date Manipulations In a Me...  2022-03-22   \n",
              "1  yFyyP_Uvxj0  How To Solve Data Science Probability Intervie...  2022-03-10   \n",
              "2  Av92CaPTRr8  How to use SQL window functions: RANK vs DENSE...  2022-03-02   \n",
              "3  VEjxlKBkZGM  Amazon Data Science Interview Question Walkthr...  2022-02-08   \n",
              "4  hMUf7DqG1nQ  SQL Basics: How to Join Multiple Tables in SQL...  2022-01-27   \n",
              "\n",
              "   view_count  like_count  dislike_count  comment_count  \n",
              "0        3247         105              0             20  \n",
              "1        2025          62              0              2  \n",
              "2        2620          76              0              9  \n",
              "3        5707         179              0             20  \n",
              "4        3252          90              0              6  "
            ]
          },
          "execution_count": 17,
          "metadata": {},
          "output_type": "execute_result"
        }
      ],
      "source": [
        "#upload your CSV files here\n",
        "df = pd.read_csv('youtube_vids_info_pull.csv', index_col=0) \n",
        "df.head()"
      ]
    },
    {
      "cell_type": "code",
      "execution_count": null,
      "metadata": {
        "id": "KAiR3jPGjheM",
        "outputId": "592ee5c6-66f6-496f-d706-b52f37937d52"
      },
      "outputs": [
        {
          "data": {
            "text/plain": [
              "(85, 7)"
            ]
          },
          "execution_count": 18,
          "metadata": {},
          "output_type": "execute_result"
        }
      ],
      "source": [
        "df.shape"
      ]
    },
    {
      "cell_type": "code",
      "execution_count": null,
      "metadata": {
        "id": "yc_VEUTljheN"
      },
      "outputs": [],
      "source": [
        "#Taken from github site\n",
        "def create_table(curr):\n",
        "    create_table_command = (\"\"\"CREATE TABLE IF NOT EXISTS videos (\n",
        "                    video_id VARCHAR(255) PRIMARY KEY,\n",
        "                    video_title TEXT NOT NULL,\n",
        "                    upload_date DATE NOT NULL,\n",
        "                    view_count INTEGER NOT NULL,\n",
        "                    like_count INTEGER NOT NULL,\n",
        "                    dislike_count INTEGER NOT NULL,\n",
        "                    comment_count INTEGER NOT NULL\n",
        "            )\"\"\")\n",
        "\n",
        "    curr.execute(create_table_command)\n",
        "\n",
        "def insert_into_table(curr, video_id, video_title, upload_date, view_count, like_count, dislike_count, comment_count):\n",
        "    insert_into_videos = (\"\"\"INSERT INTO videos (video_id, video_title, upload_date,\n",
        "                        view_count, like_count, dislike_count,comment_count)\n",
        "    VALUES(%s,%s,%s,%s,%s,%s,%s);\"\"\")\n",
        "    row_to_insert = (video_id, video_title, upload_date, view_count, like_count, dislike_count, comment_count)\n",
        "    curr.execute(insert_into_videos, row_to_insert)\n",
        "\n",
        "\n",
        "def update_row(curr, video_id, video_title, view_count, like_count, dislike_count, comment_count):\n",
        "    query = (\"\"\"UPDATE videos\n",
        "            SET video_title = %s,\n",
        "                view_count = %s,\n",
        "                like_count = %s,\n",
        "                dislike_count = %s,\n",
        "                comment_count = %s\n",
        "            WHERE video_id = %s;\"\"\")\n",
        "    vars_to_update = (video_title, view_count, like_count, dislike_count, comment_count, video_id)\n",
        "    curr.execute(query, vars_to_update)\n",
        "\n",
        "\n",
        "def check_if_video_exists(curr, video_id): \n",
        "    query = (\"\"\"SELECT video_id FROM videos WHERE video_id = %s\"\"\")\n",
        "\n",
        "    curr.execute(query, (video_id,))\n",
        "    return curr.fetchone() is not None\n",
        "\n",
        "\n",
        "\n",
        "def truncate_table(curr):\n",
        "    truncate_table = (\"\"\"TRUNCATE TABLE videos\"\"\")\n",
        "\n",
        "    curr.execute(truncate_table)\n",
        "\n",
        "\n",
        "def append_from_df_to_db(curr,df):\n",
        "    for i, row in df.iterrows():\n",
        "        insert_into_table(curr, row['video_id'], row['video_title'], row['upload_date'], row['view_count']\n",
        "                          , row['like_count'], row['dislike_count'], row['comment_count'])\n",
        "\n",
        "\n",
        "def update_db(curr,df):\n",
        "    tmp_df = pd.DataFrame(columns=['video_id', 'video_title', 'upload_date', 'view_count',\n",
        "                                   'like_count', 'dislike_count', 'comment_count'])\n",
        "    for i, row in df.iterrows():\n",
        "        if check_if_video_exists(curr, row['video_id']): # If video already exists then we will update\n",
        "            update_row(curr,row['video_id'],row['video_title'],row['view_count'],row['like_count'],row['dislike_count'],row['comment_count'])\n",
        "        else: # The video doesn't exists so we will add it to a temp df and append it using append_from_df_to_db\n",
        "            tmp_df = tmp_df.append(row)\n",
        "\n",
        "    return tmp_df\n"
      ]
    },
    {
      "cell_type": "code",
      "execution_count": null,
      "metadata": {
        "id": "YzYPQFIijheP"
      },
      "outputs": [],
      "source": [
        "#create table\n",
        "\n",
        "create_table(curr)"
      ]
    },
    {
      "cell_type": "code",
      "execution_count": null,
      "metadata": {
        "id": "9xBy6PpTjheP"
      },
      "outputs": [],
      "source": [
        "#update data for existing videos\n",
        "\n",
        "new_vid_df = update_db(curr,df)\n",
        "conn.commit()"
      ]
    },
    {
      "cell_type": "code",
      "execution_count": null,
      "metadata": {
        "id": "5q8nKuOLjheQ",
        "outputId": "a72a7707-4c3d-4f73-ff55-42fd180580ad"
      },
      "outputs": [
        {
          "data": {
            "text/html": [
              "<div>\n",
              "<style scoped>\n",
              "    .dataframe tbody tr th:only-of-type {\n",
              "        vertical-align: middle;\n",
              "    }\n",
              "\n",
              "    .dataframe tbody tr th {\n",
              "        vertical-align: top;\n",
              "    }\n",
              "\n",
              "    .dataframe thead th {\n",
              "        text-align: right;\n",
              "    }\n",
              "</style>\n",
              "<table border=\"1\" class=\"dataframe\">\n",
              "  <thead>\n",
              "    <tr style=\"text-align: right;\">\n",
              "      <th></th>\n",
              "      <th>video_id</th>\n",
              "      <th>video_title</th>\n",
              "      <th>upload_date</th>\n",
              "      <th>view_count</th>\n",
              "      <th>like_count</th>\n",
              "      <th>dislike_count</th>\n",
              "      <th>comment_count</th>\n",
              "    </tr>\n",
              "  </thead>\n",
              "  <tbody>\n",
              "    <tr>\n",
              "      <th>0</th>\n",
              "      <td>jN5hpgBrz8k</td>\n",
              "      <td>Dealing With Python Date Manipulations In a Me...</td>\n",
              "      <td>2022-03-22</td>\n",
              "      <td>3247</td>\n",
              "      <td>105</td>\n",
              "      <td>0</td>\n",
              "      <td>20</td>\n",
              "    </tr>\n",
              "    <tr>\n",
              "      <th>1</th>\n",
              "      <td>yFyyP_Uvxj0</td>\n",
              "      <td>How To Solve Data Science Probability Intervie...</td>\n",
              "      <td>2022-03-10</td>\n",
              "      <td>2025</td>\n",
              "      <td>62</td>\n",
              "      <td>0</td>\n",
              "      <td>2</td>\n",
              "    </tr>\n",
              "    <tr>\n",
              "      <th>2</th>\n",
              "      <td>Av92CaPTRr8</td>\n",
              "      <td>How to use SQL window functions: RANK vs DENSE...</td>\n",
              "      <td>2022-03-02</td>\n",
              "      <td>2620</td>\n",
              "      <td>76</td>\n",
              "      <td>0</td>\n",
              "      <td>9</td>\n",
              "    </tr>\n",
              "    <tr>\n",
              "      <th>3</th>\n",
              "      <td>VEjxlKBkZGM</td>\n",
              "      <td>Amazon Data Science Interview Question Walkthr...</td>\n",
              "      <td>2022-02-08</td>\n",
              "      <td>5707</td>\n",
              "      <td>179</td>\n",
              "      <td>0</td>\n",
              "      <td>20</td>\n",
              "    </tr>\n",
              "    <tr>\n",
              "      <th>4</th>\n",
              "      <td>hMUf7DqG1nQ</td>\n",
              "      <td>SQL Basics: How to Join Multiple Tables in SQL...</td>\n",
              "      <td>2022-01-27</td>\n",
              "      <td>3252</td>\n",
              "      <td>90</td>\n",
              "      <td>0</td>\n",
              "      <td>6</td>\n",
              "    </tr>\n",
              "  </tbody>\n",
              "</table>\n",
              "</div>"
            ],
            "text/plain": [
              "      video_id                                        video_title upload_date  \\\n",
              "0  jN5hpgBrz8k  Dealing With Python Date Manipulations In a Me...  2022-03-22   \n",
              "1  yFyyP_Uvxj0  How To Solve Data Science Probability Intervie...  2022-03-10   \n",
              "2  Av92CaPTRr8  How to use SQL window functions: RANK vs DENSE...  2022-03-02   \n",
              "3  VEjxlKBkZGM  Amazon Data Science Interview Question Walkthr...  2022-02-08   \n",
              "4  hMUf7DqG1nQ  SQL Basics: How to Join Multiple Tables in SQL...  2022-01-27   \n",
              "\n",
              "  view_count like_count dislike_count comment_count  \n",
              "0       3247        105             0            20  \n",
              "1       2025         62             0             2  \n",
              "2       2620         76             0             9  \n",
              "3       5707        179             0            20  \n",
              "4       3252         90             0             6  "
            ]
          },
          "execution_count": 26,
          "metadata": {},
          "output_type": "execute_result"
        }
      ],
      "source": [
        "new_vid_df.head()"
      ]
    },
    {
      "cell_type": "code",
      "execution_count": null,
      "metadata": {
        "id": "Z5oc-KY8jheQ",
        "outputId": "46a9ff46-f2e3-4b71-c9fb-c92f15c4d280"
      },
      "outputs": [
        {
          "data": {
            "text/plain": [
              "(85, 7)"
            ]
          },
          "execution_count": 27,
          "metadata": {},
          "output_type": "execute_result"
        }
      ],
      "source": [
        "new_vid_df.shape"
      ]
    },
    {
      "cell_type": "code",
      "execution_count": null,
      "metadata": {
        "id": "r9SPpd0ijheR"
      },
      "outputs": [],
      "source": [
        "#insert new videos into db table\n",
        "\n",
        "append_from_df_to_db(curr, new_vid_df)\n",
        "conn.commit()"
      ]
    },
    {
      "cell_type": "code",
      "execution_count": null,
      "metadata": {
        "id": "x6kzb18UjheR",
        "outputId": "3a968ac1-77c4-4a90-b60d-a22dbcd081c8"
      },
      "outputs": [
        {
          "name": "stdout",
          "output_type": "stream",
          "text": [
            "(('_gy1o9UH2dQ', 'Hard SQL Interview Question From FACEBOOK | Data Science Coding Interviews (Popularity Percentage)', datetime.date(2020, 11, 4), 21211, 452, 0, 71), ('-i9chjBSOqU', 'merge() Method to Join Multiple Pandas Dataframes - Beginner Python Pandas Tutorial #7', datetime.date(2020, 5, 29), 1478, 34, 0, 23), ('01kOJUiiEQE', 'NumPy Slicing and Accessing Subarrays - Complete Python NumPy Tutorial for Beginners #5', datetime.date(2020, 5, 14), 373, 6, 0, 0), ('0GpgMvyN0Fg', 'How I Learned Data Science (resources to get a job) in 2021', datetime.date(2021, 2, 4), 11899, 720, 0, 45), ('0hjTJw9Jpmc', 'How to Reshape NumPy Arrays - Beginner Python NumPy Exercises #5', datetime.date(2020, 5, 14), 313, 5, 0, 1), ('1SgHHQeRuxs', 'How I Prepare For My Data Science Interviews (From a Data Scientist)', datetime.date(2020, 10, 18), 4373, 131, 0, 17), ('2iE3JgNTwVU', 'A Walkthrough of Data Science SQL Interview Question from Noom (Date Manipulations)', datetime.date(2021, 6, 4), 4826, 158, 0, 32), ('30hS-MjpU6E', 'SQL Syntax Best Practices: How to Structure Your SQL Code', datetime.date(2021, 12, 22), 9459, 423, 0, 44), ('5-1ClCuQCIw', 'How to Organize Data Science Interview Solution | Data Science Interview Tip #3', datetime.date(2020, 8, 30), 3214, 32, 0, 10), ('60NaEc7NP_U', 'My Data Science Career Path (From Novice to Your First Job) - Your Journey to Data Science', datetime.date(2020, 9, 13), 1917, 69, 0, 5), ('77IVf0zgmwI', 'Importing a Pandas Dataframe to a Database in Python [For Your Data Science Project]', datetime.date(2021, 5, 5), 14192, 473, 0, 52), ('7Q-2DEwHW7w', 'Solving a SQL Interview Question by FACEBOOK | (Data Science Interview) SMS Confirmations From Users', datetime.date(2020, 10, 29), 5992, 112, 0, 21), ('aGPjAOhomY4', 'Useful Array Attributes of NumPy - Complete Python NumPy Tutorial for Beginners #3', datetime.date(2020, 5, 14), 361, 5, 0, 0), ('Av92CaPTRr8', 'How to use SQL window functions: RANK vs DENSE_RANK in Data Science Interviews', datetime.date(2022, 3, 2), 2620, 76, 0, 9), ('Bgpp99iz0I0', 'Most Common Coding Mistakes on Data Science Interviews', datetime.date(2021, 11, 4), 4182, 198, 0, 32), ('bM7LSQIKYs8', 'Pandas iloc, loc and Dataframes  - Beginner Python Pandas Tutorial #1 (interactive python notebook)', datetime.date(2020, 5, 23), 3849, 84, 0, 14), ('C0hk-dZ9XSE', 'SQL Window Functions In a Data Science Interview Question by Airbnb in 2021', datetime.date(2020, 12, 10), 3773, 131, 0, 26), ('c4Af2FcgamA', 'The One and Only Data Science Project You Need', datetime.date(2021, 2, 24), 180067, 10703, 0, 231), ('ccDPI7v-0QE', 'Math Operations Arrays using NumPy - Beginner Python NumPy Exercises #7', datetime.date(2020, 5, 16), 311, 6, 0, 0), ('ceJ4lVXN0T8', 'NumPy Descriptive Statistics - Beginner Python NumPy Exercises #8', datetime.date(2020, 5, 16), 335, 12, 0, 6), ('DUgd48QYmfI', 'Advanced Use of groupby(), aggregate, filter, transform, apply - Beginner Python Pandas Tutorial #5', datetime.date(2020, 5, 26), 15783, 280, 0, 38), ('dWQvU9p7TdU', 'Split and Reshape NumPy  Concatenate NumPy Arrays - Complete Python NumPy Tutorial for Beginners #6', datetime.date(2020, 5, 14), 411, 13, 0, 0), ('e6C1Z-o1fyQ', 'How to Create Boolean Mask for NumPy Arrays - Beginner Python NumPy Exercises #9', datetime.date(2020, 5, 17), 1163, 15, 0, 5), ('e8o7E13KtJ4', 'Splitting and Concatenating Arrays - Beginner Python NumPy Exercises #6', datetime.date(2020, 5, 14), 307, 9, 0, 0), ('eC7MdwKCCOE', 'Tricky Data Science Interview Question [By Facebook]', datetime.date(2020, 12, 22), 4420, 149, 0, 31), ('EPUayNC5ku4', 'SQL Coding Interview Question Using A Window Function (PARTITION BY) | Data Science Interviews', datetime.date(2020, 11, 19), 54846, 1588, 0, 122), ('F5sKh-3V3KA', 'How to Create Arrays and Functions in Python - Complete Python NumPy Tutorial for Beginners #2', datetime.date(2020, 5, 13), 518, 8, 0, 0), ('fklHBWow8vE', 'Working with APIs in Python [For Your Data Science Project]', datetime.date(2021, 4, 2), 32582, 1510, 0, 102), ('GeJUvdkJKEc', 'Multiple Solutions to Data Scientist Interview Question From Amazon [Rolling Average]', datetime.date(2021, 10, 11), 7060, 189, 0, 35), ('GGURenNfXI0', 'Multiple Approaches for Solving a Twitter Data Scientist Interview Question', datetime.date(2021, 9, 13), 4609, 182, 0, 32), ('giGIPINLqJs', 'An Analysis of 900 Data Science Interview Questions | Data Science Interview Guide', datetime.date(2021, 5, 13), 3545, 143, 0, 10), ('gZGGexOyL9M', 'Summary Statistics in NumPy - Complete Python NumPy Tutorial for Beginners #8', datetime.date(2020, 5, 16), 286, 3, 0, 0), ('hMUf7DqG1nQ', 'SQL Basics: How to Join Multiple Tables in SQL and the Importance of LEFT JOIN vs INNER JOIN', datetime.date(2022, 1, 27), 3252, 90, 0, 6), ('HRzthi_FqAA', 'Merge Dataframes Using Concat and Append - Beginner Python Pandas Tutorial #6', datetime.date(2020, 5, 26), 652, 25, 0, 5), ('i-E4pdU2qXM', 'Data Science SQL Interview Question Walkthrough [Microsoft] - Window Function: Ranking', datetime.date(2021, 7, 13), 6172, 230, 0, 22), ('IKw0lkmBHNI', 'Solving an Airbnb Data Science Coding Interview Question | SQL Interview  [Fav Host Nationality]', datetime.date(2020, 11, 11), 5289, 117, 0, 18), ('iR8FDQyCtnw', 'SQL Interview Questions From MICROSOFT | Expensive Projects (Data Science Interview Questions)', datetime.date(2020, 10, 20), 2240, 56, 0, 5), ('iwIPnlCHlVQ', 'Simple Groupby() in Pandas - Beginner Python Pandas Tutorial #4 (interactive python notebook)', datetime.date(2020, 5, 26), 1446, 40, 0, 4), ('j8kGqAAIhxA', 'Top Data Science Interview Question And Answer Mistakes 2021 [Asked By Amazon]', datetime.date(2021, 1, 6), 4437, 147, 0, 29), ('JHxojhrCsRs', 'How to Deal with Nulls in Pandas - Beginner Python Pandas Tutorial #2 (interactive python notebook)', datetime.date(2020, 5, 24), 926, 25, 0, 5), ('jN5hpgBrz8k', 'Dealing With Python Date Manipulations In a Meta/Facebook Data Science Interview Question', datetime.date(2022, 3, 22), 3247, 105, 0, 20), ('JZfsZuLKaJ4', 'Arithmetic Operators on Arrays using NumPy - Complete Python NumPy Tutorial for Beginners #7', datetime.date(2020, 5, 16), 321, 4, 0, 0), ('lG0PbUq4wkg', 'Top Data Science Interview Questions in 2021 [3 concepts tested on all interviews]', datetime.date(2021, 1, 13), 4851, 177, 0, 24), ('LL7dnUymOvo', 'A Boolean Mask on NumPy Arrays - Complete Python NumPy Tutorial for Beginners #9', datetime.date(2020, 5, 17), 976, 16, 0, 5), ('mCXZXe-Na3s', 'Fundamentals of Filtering Data in a Pandas Dataframe - Beginner Python Pandas Tutorial #3', datetime.date(2020, 5, 24), 982, 41, 0, 9), ('mkbgEvUkSaM', 'NumPy Array vs List in Python - Beginner Python NumPy Exercises #1 (interactive python notebook)', datetime.date(2020, 5, 13), 2016, 34, 0, 3), ('N0aHeKyNEto', 'Applying Software Engineering Principles To Your Data Science Tasks In Python', datetime.date(2020, 12, 3), 2246, 91, 0, 30), ('n6gM265zG68', 'SQL Query Interview Questions And Answers From Real Companies | Prepare For Your SQL Interview', datetime.date(2019, 6, 26), 41433, 531, 0, 5), ('OVD26YMkT_c', 'List vs Array Python - Complete Python NumPy Tutorial for Beginners #1 (interactive python notebook)', datetime.date(2020, 5, 13), 934, 21, 0, 3), ('pFwYjaeKFvQ', 'Solving a Facebook Data Science Interview Questions | (SQL Interview Questions and Answer)', datetime.date(2020, 10, 22), 4617, 74, 0, 19), ('PlpUo6bHsBQ', 'Advanced Facebook Data Science SQL interview question [RANK()]', datetime.date(2021, 8, 9), 18508, 564, 0, 63), ('pV_mnZgzXEo', 'Coding Concepts in Data Science Interviews in 2021 (Facebook, Twitch, Postmates)', datetime.date(2021, 3, 3), 5067, 264, 0, 29), ('QenwDm5oWdU', 'Advanced Data Science SQL Interview Question [Amazon] (window functions  aliasing)', datetime.date(2021, 2, 17), 21012, 701, 0, 102), ('rf2udE9q-SM', 'How To Get Your First Data Science Job Interview | Data Science Interviews Tip #2', datetime.date(2020, 8, 20), 2040, 43, 0, 8), ('RgKMbpEylWA', 'Comparing FAANG vs Non-FAANG Data Science Interview Questions', datetime.date(2021, 5, 24), 2620, 89, 0, 13), ('rMoUoYxfBNk', 'How To Discuss Trade-offs in a Data Science Interview - Data Science Interview Tip #5', datetime.date(2020, 9, 20), 995, 28, 0, 6), ('S7gKkRxlk1U', 'Real Data Science Interview Question From Facebook | Friend Acceptance Rate (Interview Walkthrough)', datetime.date(2020, 9, 23), 5308, 101, 0, 13), ('sKMuioo7Xf8', 'NumPy Array Index to Access Single Element - Complete Python NumPy Tutorial for Beginners #4', datetime.date(2020, 5, 14), 411, 3, 0, 0), ('SrqJuUNN62I', 'Technical Questions on Data Science Interviews Tip #1 | Guarantee The Correct Answer Every Time', datetime.date(2020, 8, 8), 3283, 68, 0, 4), ('STJA-D-K9Cs', 'NumPy Multidimensional Array Indexing and Slicing - Beginner Python NumPy Exercises #4', datetime.date(2020, 5, 14), 576, 10, 0, 3), ('T1UhSuKqy3A', 'Most Common Data Science SQL Interview Question from DoorDash [window functions  partitions]', datetime.date(2021, 6, 15), 10167, 350, 0, 37), ('tDdo3FiWpgE', 'Interview Questions for SQL Joins and Subqueries', datetime.date(2020, 2, 1), 1313, 22, 0, 0), ('TDwy1lSjEZo', 'Automating Your Data Science Tasks In Python (importing CSV files to database AUTOMATION TUTORIAL)', datetime.date(2020, 11, 24), 7949, 238, 0, 53), ('tNXliLTlrV8', 'Step-by-step Approach to Solving Any Data Science SQL Interview Question (Twitch)', datetime.date(2021, 3, 24), 8403, 288, 0, 35), ('ToEl_tpyoM4', 'Uber Data Science Python Interview Question Walkthrough', datetime.date(2022, 1, 10), 17895, 447, 0, 24), ('TYHWv1vT0Pk', 'Common Date Manipulations on Data Science SQL Interviews', datetime.date(2021, 2, 11), 14470, 530, 0, 80), ('U9P4M4EPTgI', 'Intro to Real Data Science Interview Questions and Answers Series (Interview Walkthroughs)', datetime.date(2020, 9, 23), 2906, 53, 0, 6), ('UndSRKwsxKM', 'YELP SQL Data Science Interview Questions | Common Coding Question (Mock Interview Walkthrough)', datetime.date(2020, 10, 10), 2172, 41, 0, 14), ('UX4_IgagL9I', 'How to Use Google Colaboratory | Import a CSV File into a Google Colabs Notebook', datetime.date(2020, 5, 2), 1995, 12, 0, 2), ('uY2wfR8Dkqo', '5 Tips for a Successful Data Science Interview', datetime.date(2021, 7, 26), 8880, 244, 0, 40), ('VEjxlKBkZGM', 'Amazon Data Science Interview Question Walkthrough | How to Deal with Streaks in SQL', datetime.date(2022, 2, 8), 5707, 179, 0, 20), ('vLjAG9eXkcU', 'Solving Complex SQL Interview Questions [How to organize lengthy code solutions]', datetime.date(2021, 1, 20), 9760, 313, 0, 61), ('VYeevsVj4fU', 'Advanced SQL Questions From Amazon (Handling complex logic in data science interviews)', datetime.date(2021, 1, 27), 18784, 540, 0, 68), ('W_IERUwElkg', 'SQL Case Statements For Data Science Interviews in 2021', datetime.date(2020, 12, 28), 29180, 1040, 0, 85), ('wqBFgaMgFQA', 'Solve Data Science Tasks In Python (Saving Hours) (automating import CSV files to database)', datetime.date(2020, 11, 15), 15396, 501, 0, 47), ('wqxDfVdZ8wM', '18 Most Recommended Data Science Platforms To Learn Python And SQL', datetime.date(2020, 8, 16), 2459, 103, 0, 22), ('wW827gqxlRY', 'SQL Job Interview Mistakes #2', datetime.date(2019, 9, 15), 1030, 21, 0, 0), ('xbc2GpGUXwc', 'SQL Job Interview Mistakes #1', datetime.date(2019, 8, 3), 7766, 70, 0, 1), ('XBE09l-UYTE', 'SQL Window Functions on Data Science Interviews in 2021 | Asked By Airbnb, Netflix, Twitter, Uber', datetime.date(2020, 12, 17), 54952, 1838, 0, 145), ('XRwxYOhHdE8', 'Facebook&#39;s Most Common Data Science SQL Interview Question [2021 Interview Question and Answer]', datetime.date(2021, 3, 10), 30364, 730, 0, 54), ('xtbMCAVXDmU', 'Facebook and Microsoft Data Science SQL interview question walkthrough (advanced)', datetime.date(2021, 4, 15), 8291, 252, 0, 60), ('yFyyP_Uvxj0', 'How To Solve Data Science Probability Interview Questions | Meta/Facebook Example', datetime.date(2022, 3, 10), 2025, 62, 0, 2), ('Yk3H3VRDfm0', 'Array Attributes and Accessing Single Elements in NumPy - Beginner Python NumPy Exercises #3', datetime.date(2020, 5, 14), 436, 9, 0, 0), ('yLn52ppKO80', 'How to Create NumPy Array from Scratch - Beginner Python NumPy Exercises #2', datetime.date(2020, 5, 13), 723, 18, 0, 0), ('yY7yau9j3xk', 'Data Science SQL Scenario Based Interview Question [Facebook] - Date Manipulation', datetime.date(2021, 7, 20), 6196, 166, 0, 28))\n"
          ]
        }
      ],
      "source": [
        "#view data in db table\n",
        "\n",
        "curr.execute(\"SELECT * FROM videos\")\n",
        "print(curr.fetchall())"
      ]
    },
    {
      "cell_type": "code",
      "execution_count": null,
      "metadata": {
        "id": "kae4PAgzjheR",
        "outputId": "d06d60d8-3395-424c-c977-43388826b5e3"
      },
      "outputs": [
        {
          "data": {
            "text/html": [
              "<div>\n",
              "<style scoped>\n",
              "    .dataframe tbody tr th:only-of-type {\n",
              "        vertical-align: middle;\n",
              "    }\n",
              "\n",
              "    .dataframe tbody tr th {\n",
              "        vertical-align: top;\n",
              "    }\n",
              "\n",
              "    .dataframe thead th {\n",
              "        text-align: right;\n",
              "    }\n",
              "</style>\n",
              "<table border=\"1\" class=\"dataframe\">\n",
              "  <thead>\n",
              "    <tr style=\"text-align: right;\">\n",
              "      <th></th>\n",
              "      <th>video_id</th>\n",
              "      <th>video_title</th>\n",
              "      <th>upload_date</th>\n",
              "      <th>view_count</th>\n",
              "      <th>like_count</th>\n",
              "      <th>dislike_count</th>\n",
              "      <th>comment_count</th>\n",
              "    </tr>\n",
              "  </thead>\n",
              "  <tbody>\n",
              "    <tr>\n",
              "      <th>0</th>\n",
              "      <td>OzyHfddLj9g</td>\n",
              "      <td>How to Solve a SQL Interview Question Using WH...</td>\n",
              "      <td>2022-04-13</td>\n",
              "      <td>1900</td>\n",
              "      <td>68</td>\n",
              "      <td>0</td>\n",
              "      <td>7</td>\n",
              "    </tr>\n",
              "    <tr>\n",
              "      <th>1</th>\n",
              "      <td>jN5hpgBrz8k</td>\n",
              "      <td>Dealing With Python Date Manipulations In a Me...</td>\n",
              "      <td>2022-03-22</td>\n",
              "      <td>3891</td>\n",
              "      <td>125</td>\n",
              "      <td>0</td>\n",
              "      <td>20</td>\n",
              "    </tr>\n",
              "    <tr>\n",
              "      <th>2</th>\n",
              "      <td>yFyyP_Uvxj0</td>\n",
              "      <td>How To Solve Data Science Probability Intervie...</td>\n",
              "      <td>2022-03-10</td>\n",
              "      <td>2158</td>\n",
              "      <td>66</td>\n",
              "      <td>0</td>\n",
              "      <td>3</td>\n",
              "    </tr>\n",
              "    <tr>\n",
              "      <th>3</th>\n",
              "      <td>Av92CaPTRr8</td>\n",
              "      <td>How to use SQL window functions: RANK vs DENSE...</td>\n",
              "      <td>2022-03-02</td>\n",
              "      <td>3017</td>\n",
              "      <td>83</td>\n",
              "      <td>0</td>\n",
              "      <td>9</td>\n",
              "    </tr>\n",
              "    <tr>\n",
              "      <th>4</th>\n",
              "      <td>VEjxlKBkZGM</td>\n",
              "      <td>Amazon Data Science Interview Question Walkthr...</td>\n",
              "      <td>2022-02-08</td>\n",
              "      <td>6016</td>\n",
              "      <td>186</td>\n",
              "      <td>0</td>\n",
              "      <td>20</td>\n",
              "    </tr>\n",
              "  </tbody>\n",
              "</table>\n",
              "</div>"
            ],
            "text/plain": [
              "      video_id                                        video_title upload_date  \\\n",
              "0  OzyHfddLj9g  How to Solve a SQL Interview Question Using WH...  2022-04-13   \n",
              "1  jN5hpgBrz8k  Dealing With Python Date Manipulations In a Me...  2022-03-22   \n",
              "2  yFyyP_Uvxj0  How To Solve Data Science Probability Intervie...  2022-03-10   \n",
              "3  Av92CaPTRr8  How to use SQL window functions: RANK vs DENSE...  2022-03-02   \n",
              "4  VEjxlKBkZGM  Amazon Data Science Interview Question Walkthr...  2022-02-08   \n",
              "\n",
              "   view_count  like_count  dislike_count  comment_count  \n",
              "0        1900          68              0              7  \n",
              "1        3891         125              0             20  \n",
              "2        2158          66              0              3  \n",
              "3        3017          83              0              9  \n",
              "4        6016         186              0             20  "
            ]
          },
          "execution_count": 32,
          "metadata": {},
          "output_type": "execute_result"
        }
      ],
      "source": [
        "#Now let's update rows. I have downloaded latest youtube_vids_info_pull.csv files which contains 86 videos - so now 1 row will be added and remaining 85 videos' rows will be updated with view/like/dislike count\n",
        "#upload your CSV files here\n",
        "df = pd.read_csv('youtube_vids_info_pull_latest.csv', index_col=0) \n",
        "df.head()"
      ]
    },
    {
      "cell_type": "code",
      "execution_count": null,
      "metadata": {
        "id": "d8gzFtjYjheS",
        "outputId": "0efa452a-aa5e-425c-fa5a-1ab8a4c5d983"
      },
      "outputs": [
        {
          "data": {
            "text/plain": [
              "(86, 7)"
            ]
          },
          "execution_count": 33,
          "metadata": {},
          "output_type": "execute_result"
        }
      ],
      "source": [
        "df.shape"
      ]
    },
    {
      "cell_type": "code",
      "execution_count": null,
      "metadata": {
        "id": "aoqLVVDWjheS"
      },
      "outputs": [],
      "source": [
        "#update data for existing videos\n",
        "\n",
        "new_vid_df2 = update_db(curr,df)\n",
        "conn.commit()"
      ]
    },
    {
      "cell_type": "code",
      "execution_count": null,
      "metadata": {
        "id": "1-V4etOojheS",
        "outputId": "30601058-831c-4558-99db-857422eae200"
      },
      "outputs": [
        {
          "data": {
            "text/html": [
              "<div>\n",
              "<style scoped>\n",
              "    .dataframe tbody tr th:only-of-type {\n",
              "        vertical-align: middle;\n",
              "    }\n",
              "\n",
              "    .dataframe tbody tr th {\n",
              "        vertical-align: top;\n",
              "    }\n",
              "\n",
              "    .dataframe thead th {\n",
              "        text-align: right;\n",
              "    }\n",
              "</style>\n",
              "<table border=\"1\" class=\"dataframe\">\n",
              "  <thead>\n",
              "    <tr style=\"text-align: right;\">\n",
              "      <th></th>\n",
              "      <th>video_id</th>\n",
              "      <th>video_title</th>\n",
              "      <th>upload_date</th>\n",
              "      <th>view_count</th>\n",
              "      <th>like_count</th>\n",
              "      <th>dislike_count</th>\n",
              "      <th>comment_count</th>\n",
              "    </tr>\n",
              "  </thead>\n",
              "  <tbody>\n",
              "    <tr>\n",
              "      <th>0</th>\n",
              "      <td>OzyHfddLj9g</td>\n",
              "      <td>How to Solve a SQL Interview Question Using WH...</td>\n",
              "      <td>2022-04-13</td>\n",
              "      <td>1900</td>\n",
              "      <td>68</td>\n",
              "      <td>0</td>\n",
              "      <td>7</td>\n",
              "    </tr>\n",
              "  </tbody>\n",
              "</table>\n",
              "</div>"
            ],
            "text/plain": [
              "      video_id                                        video_title upload_date  \\\n",
              "0  OzyHfddLj9g  How to Solve a SQL Interview Question Using WH...  2022-04-13   \n",
              "\n",
              "  view_count like_count dislike_count comment_count  \n",
              "0       1900         68             0             7  "
            ]
          },
          "execution_count": 39,
          "metadata": {},
          "output_type": "execute_result"
        }
      ],
      "source": [
        "new_vid_df2"
      ]
    },
    {
      "cell_type": "code",
      "execution_count": null,
      "metadata": {
        "id": "8CY6I6S_jheS"
      },
      "outputs": [],
      "source": [
        "#insert new videos into db table\n",
        "\n",
        "append_from_df_to_db(curr, new_vid_df2)\n",
        "conn.commit()"
      ]
    },
    {
      "cell_type": "code",
      "execution_count": null,
      "metadata": {
        "id": "xZmMDxGqjheT",
        "outputId": "979fa1e0-1f78-434f-a1ac-c5f71c7ac184"
      },
      "outputs": [
        {
          "name": "stdout",
          "output_type": "stream",
          "text": [
            "(('_gy1o9UH2dQ', 'Hard SQL Interview Question From FACEBOOK | Data Science Coding Interviews (Popularity Percentage)', datetime.date(2020, 11, 4), 21693, 465, 0, 71), ('-i9chjBSOqU', 'merge() Method to Join Multiple Pandas Dataframes - Beginner Python Pandas Tutorial #7', datetime.date(2020, 5, 29), 1530, 35, 0, 23), ('01kOJUiiEQE', 'NumPy Slicing and Accessing Subarrays - Complete Python NumPy Tutorial for Beginners #5', datetime.date(2020, 5, 14), 397, 8, 0, 0), ('0GpgMvyN0Fg', 'How I Learned Data Science (resources to get a job) in 2021', datetime.date(2021, 2, 4), 12236, 743, 0, 45), ('0hjTJw9Jpmc', 'How to Reshape NumPy Arrays - Beginner Python NumPy Exercises #5', datetime.date(2020, 5, 14), 324, 5, 0, 1), ('1SgHHQeRuxs', 'How I Prepare For My Data Science Interviews (From a Data Scientist)', datetime.date(2020, 10, 18), 4394, 132, 0, 17), ('2iE3JgNTwVU', 'A Walkthrough of Data Science SQL Interview Question from Noom (Date Manipulations)', datetime.date(2021, 6, 4), 4915, 159, 0, 32), ('30hS-MjpU6E', 'SQL Syntax Best Practices: How to Structure Your SQL Code', datetime.date(2021, 12, 22), 9814, 427, 0, 45), ('5-1ClCuQCIw', 'How to Organize Data Science Interview Solution | Data Science Interview Tip #3', datetime.date(2020, 8, 30), 3225, 33, 0, 10), ('60NaEc7NP_U', 'My Data Science Career Path (From Novice to Your First Job) - Your Journey to Data Science', datetime.date(2020, 9, 13), 1925, 70, 0, 5), ('77IVf0zgmwI', 'Importing a Pandas Dataframe to a Database in Python [For Your Data Science Project]', datetime.date(2021, 5, 5), 15048, 495, 0, 53), ('7Q-2DEwHW7w', 'Solving a SQL Interview Question by FACEBOOK | (Data Science Interview) SMS Confirmations From Users', datetime.date(2020, 10, 29), 6089, 114, 0, 21), ('aGPjAOhomY4', 'Useful Array Attributes of NumPy - Complete Python NumPy Tutorial for Beginners #3', datetime.date(2020, 5, 14), 381, 5, 0, 0), ('Av92CaPTRr8', 'How to use SQL window functions: RANK vs DENSE_RANK in Data Science Interviews', datetime.date(2022, 3, 2), 3017, 83, 0, 9), ('Bgpp99iz0I0', 'Most Common Coding Mistakes on Data Science Interviews', datetime.date(2021, 11, 4), 4258, 200, 0, 32), ('bM7LSQIKYs8', 'Pandas iloc, loc and Dataframes  - Beginner Python Pandas Tutorial #1 (interactive python notebook)', datetime.date(2020, 5, 23), 3962, 87, 0, 17), ('C0hk-dZ9XSE', 'SQL Window Functions In a Data Science Interview Question by Airbnb in 2021', datetime.date(2020, 12, 10), 3864, 140, 0, 27), ('c4Af2FcgamA', 'The One and Only Data Science Project You Need', datetime.date(2021, 2, 24), 183747, 10887, 0, 235), ('ccDPI7v-0QE', 'Math Operations Arrays using NumPy - Beginner Python NumPy Exercises #7', datetime.date(2020, 5, 16), 315, 6, 0, 0), ('ceJ4lVXN0T8', 'NumPy Descriptive Statistics - Beginner Python NumPy Exercises #8', datetime.date(2020, 5, 16), 344, 12, 0, 6), ('DUgd48QYmfI', 'Advanced Use of groupby(), aggregate, filter, transform, apply - Beginner Python Pandas Tutorial #5', datetime.date(2020, 5, 26), 16244, 288, 0, 38), ('dWQvU9p7TdU', 'Split and Reshape NumPy  Concatenate NumPy Arrays - Complete Python NumPy Tutorial for Beginners #6', datetime.date(2020, 5, 14), 434, 13, 0, 0), ('e6C1Z-o1fyQ', 'How to Create Boolean Mask for NumPy Arrays - Beginner Python NumPy Exercises #9', datetime.date(2020, 5, 17), 1208, 15, 0, 5), ('e8o7E13KtJ4', 'Splitting and Concatenating Arrays - Beginner Python NumPy Exercises #6', datetime.date(2020, 5, 14), 317, 9, 0, 0), ('eC7MdwKCCOE', 'Tricky Data Science Interview Question [By Facebook]', datetime.date(2020, 12, 22), 4479, 150, 0, 31), ('EPUayNC5ku4', 'SQL Coding Interview Question Using A Window Function (PARTITION BY) | Data Science Interviews', datetime.date(2020, 11, 19), 57057, 1654, 0, 128), ('F5sKh-3V3KA', 'How to Create Arrays and Functions in Python - Complete Python NumPy Tutorial for Beginners #2', datetime.date(2020, 5, 13), 539, 8, 0, 0), ('fklHBWow8vE', 'Working with APIs in Python [For Your Data Science Project]', datetime.date(2021, 4, 2), 34391, 1597, 0, 105), ('GeJUvdkJKEc', 'Multiple Solutions to Data Scientist Interview Question From Amazon [Rolling Average]', datetime.date(2021, 10, 11), 7334, 196, 0, 35), ('GGURenNfXI0', 'Multiple Approaches for Solving a Twitter Data Scientist Interview Question', datetime.date(2021, 9, 13), 4706, 185, 0, 32), ('giGIPINLqJs', 'An Analysis of 900 Data Science Interview Questions | Data Science Interview Guide', datetime.date(2021, 5, 13), 3654, 146, 0, 10), ('gZGGexOyL9M', 'Summary Statistics in NumPy - Complete Python NumPy Tutorial for Beginners #8', datetime.date(2020, 5, 16), 303, 3, 0, 0), ('hMUf7DqG1nQ', 'SQL Basics: How to Join Multiple Tables in SQL and the Importance of LEFT JOIN vs INNER JOIN', datetime.date(2022, 1, 27), 3414, 91, 0, 6), ('HRzthi_FqAA', 'Merge Dataframes Using Concat and Append - Beginner Python Pandas Tutorial #6', datetime.date(2020, 5, 26), 671, 26, 0, 5), ('i-E4pdU2qXM', 'Data Science SQL Interview Question Walkthrough [Microsoft] - Window Function: Ranking', datetime.date(2021, 7, 13), 6492, 240, 0, 22), ('IKw0lkmBHNI', 'Solving an Airbnb Data Science Coding Interview Question | SQL Interview  [Fav Host Nationality]', datetime.date(2020, 11, 11), 5427, 120, 0, 21), ('iR8FDQyCtnw', 'SQL Interview Questions From MICROSOFT | Expensive Projects (Data Science Interview Questions)', datetime.date(2020, 10, 20), 2318, 57, 0, 5), ('iwIPnlCHlVQ', 'Simple Groupby() in Pandas - Beginner Python Pandas Tutorial #4 (interactive python notebook)', datetime.date(2020, 5, 26), 1496, 42, 0, 4), ('j8kGqAAIhxA', 'Top Data Science Interview Question And Answer Mistakes 2021 [Asked By Amazon]', datetime.date(2021, 1, 6), 4513, 150, 0, 29), ('JHxojhrCsRs', 'How to Deal with Nulls in Pandas - Beginner Python Pandas Tutorial #2 (interactive python notebook)', datetime.date(2020, 5, 24), 962, 26, 0, 5), ('jN5hpgBrz8k', 'Dealing With Python Date Manipulations In a Meta/Facebook Data Science Interview Question', datetime.date(2022, 3, 22), 3891, 125, 0, 20), ('JZfsZuLKaJ4', 'Arithmetic Operators on Arrays using NumPy - Complete Python NumPy Tutorial for Beginners #7', datetime.date(2020, 5, 16), 343, 5, 0, 0), ('lG0PbUq4wkg', 'Top Data Science Interview Questions in 2021 [3 concepts tested on all interviews]', datetime.date(2021, 1, 13), 4976, 184, 0, 24), ('LL7dnUymOvo', 'A Boolean Mask on NumPy Arrays - Complete Python NumPy Tutorial for Beginners #9', datetime.date(2020, 5, 17), 1015, 17, 0, 5), ('mCXZXe-Na3s', 'Fundamentals of Filtering Data in a Pandas Dataframe - Beginner Python Pandas Tutorial #3', datetime.date(2020, 5, 24), 1013, 41, 0, 9), ('mkbgEvUkSaM', 'NumPy Array vs List in Python - Beginner Python NumPy Exercises #1 (interactive python notebook)', datetime.date(2020, 5, 13), 2070, 35, 0, 3), ('N0aHeKyNEto', 'Applying Software Engineering Principles To Your Data Science Tasks In Python', datetime.date(2020, 12, 3), 2327, 98, 0, 34), ('n6gM265zG68', 'SQL Query Interview Questions And Answers From Real Companies | Prepare For Your SQL Interview', datetime.date(2019, 6, 26), 41636, 532, 0, 5), ('OVD26YMkT_c', 'List vs Array Python - Complete Python NumPy Tutorial for Beginners #1 (interactive python notebook)', datetime.date(2020, 5, 13), 973, 21, 0, 3), ('OzyHfddLj9g', 'How to Solve a SQL Interview Question Using WHERE  HAVING | PayPal Data Science Interview', datetime.date(2022, 4, 13), 1900, 68, 0, 7), ('pFwYjaeKFvQ', 'Solving a Facebook Data Science Interview Questions | (SQL Interview Questions and Answer)', datetime.date(2020, 10, 22), 4667, 75, 0, 19), ('PlpUo6bHsBQ', 'Advanced Facebook Data Science SQL interview question [RANK()]', datetime.date(2021, 8, 9), 19489, 588, 0, 63), ('pV_mnZgzXEo', 'Coding Concepts in Data Science Interviews in 2021 (Facebook, Twitch, Postmates)', datetime.date(2021, 3, 3), 5158, 264, 0, 31), ('QenwDm5oWdU', 'Advanced Data Science SQL Interview Question [Amazon] (window functions  aliasing)', datetime.date(2021, 2, 17), 22079, 727, 0, 103), ('rf2udE9q-SM', 'How To Get Your First Data Science Job Interview | Data Science Interviews Tip #2', datetime.date(2020, 8, 20), 2048, 44, 0, 8), ('RgKMbpEylWA', 'Comparing FAANG vs Non-FAANG Data Science Interview Questions', datetime.date(2021, 5, 24), 2703, 92, 0, 13), ('rMoUoYxfBNk', 'How To Discuss Trade-offs in a Data Science Interview - Data Science Interview Tip #5', datetime.date(2020, 9, 20), 1008, 28, 0, 6), ('S7gKkRxlk1U', 'Real Data Science Interview Question From Facebook | Friend Acceptance Rate (Interview Walkthrough)', datetime.date(2020, 9, 23), 5422, 102, 0, 13), ('sKMuioo7Xf8', 'NumPy Array Index to Access Single Element - Complete Python NumPy Tutorial for Beginners #4', datetime.date(2020, 5, 14), 433, 3, 0, 0), ('SrqJuUNN62I', 'Technical Questions on Data Science Interviews Tip #1 | Guarantee The Correct Answer Every Time', datetime.date(2020, 8, 8), 3299, 68, 0, 4), ('STJA-D-K9Cs', 'NumPy Multidimensional Array Indexing and Slicing - Beginner Python NumPy Exercises #4', datetime.date(2020, 5, 14), 603, 10, 0, 3), ('T1UhSuKqy3A', 'Most Common Data Science SQL Interview Question from DoorDash [window functions  partitions]', datetime.date(2021, 6, 15), 10595, 360, 0, 37), ('tDdo3FiWpgE', 'Interview Questions for SQL Joins and Subqueries', datetime.date(2020, 2, 1), 1344, 22, 0, 0), ('TDwy1lSjEZo', 'Automating Your Data Science Tasks In Python (importing CSV files to database AUTOMATION TUTORIAL)', datetime.date(2020, 11, 24), 8312, 248, 0, 56), ('tNXliLTlrV8', 'Step-by-step Approach to Solving Any Data Science SQL Interview Question (Twitch)', datetime.date(2021, 3, 24), 8645, 293, 0, 32), ('ToEl_tpyoM4', 'Uber Data Science Python Interview Question Walkthrough', datetime.date(2022, 1, 10), 18091, 449, 0, 24), ('TYHWv1vT0Pk', 'Common Date Manipulations on Data Science SQL Interviews', datetime.date(2021, 2, 11), 14868, 543, 0, 81), ('U9P4M4EPTgI', 'Intro to Real Data Science Interview Questions and Answers Series (Interview Walkthroughs)', datetime.date(2020, 9, 23), 2956, 53, 0, 6), ('UndSRKwsxKM', 'YELP SQL Data Science Interview Questions | Common Coding Question (Mock Interview Walkthrough)', datetime.date(2020, 10, 10), 2258, 42, 0, 14), ('UX4_IgagL9I', 'How to Use Google Colaboratory | Import a CSV File into a Google Colabs Notebook', datetime.date(2020, 5, 2), 2022, 12, 0, 2), ('uY2wfR8Dkqo', '5 Tips for a Successful Data Science Interview', datetime.date(2021, 7, 26), 9118, 247, 0, 40), ('VEjxlKBkZGM', 'Amazon Data Science Interview Question Walkthrough | How to Deal with Streaks in SQL', datetime.date(2022, 2, 8), 6016, 186, 0, 20), ('vLjAG9eXkcU', 'Solving Complex SQL Interview Questions [How to organize lengthy code solutions]', datetime.date(2021, 1, 20), 10049, 324, 0, 61), ('VYeevsVj4fU', 'Advanced SQL Questions From Amazon (Handling complex logic in data science interviews)', datetime.date(2021, 1, 27), 19411, 560, 0, 68), ('W_IERUwElkg', 'SQL Case Statements For Data Science Interviews in 2021', datetime.date(2020, 12, 28), 30085, 1069, 0, 85), ('wqBFgaMgFQA', 'Solve Data Science Tasks In Python (Saving Hours) (automating import CSV files to database)', datetime.date(2020, 11, 15), 16212, 526, 0, 51), ('wqxDfVdZ8wM', '18 Most Recommended Data Science Platforms To Learn Python And SQL', datetime.date(2020, 8, 16), 2504, 107, 0, 22), ('wW827gqxlRY', 'SQL Job Interview Mistakes #2', datetime.date(2019, 9, 15), 1035, 21, 0, 0), ('xbc2GpGUXwc', 'SQL Job Interview Mistakes #1', datetime.date(2019, 8, 3), 7778, 70, 0, 1), ('XBE09l-UYTE', 'SQL Window Functions on Data Science Interviews in 2021 | Asked By Airbnb, Netflix, Twitter, Uber', datetime.date(2020, 12, 17), 56725, 1900, 0, 147), ('XRwxYOhHdE8', 'Facebook&#39;s Most Common Data Science SQL Interview Question [2021 Interview Question and Answer]', datetime.date(2021, 3, 10), 31328, 750, 0, 54), ('xtbMCAVXDmU', 'Facebook and Microsoft Data Science SQL interview question walkthrough (advanced)', datetime.date(2021, 4, 15), 8475, 258, 0, 60), ('yFyyP_Uvxj0', 'How To Solve Data Science Probability Interview Questions | Meta/Facebook Example', datetime.date(2022, 3, 10), 2158, 66, 0, 3), ('Yk3H3VRDfm0', 'Array Attributes and Accessing Single Elements in NumPy - Beginner Python NumPy Exercises #3', datetime.date(2020, 5, 14), 447, 9, 0, 0), ('yLn52ppKO80', 'How to Create NumPy Array from Scratch - Beginner Python NumPy Exercises #2', datetime.date(2020, 5, 13), 743, 18, 0, 0), ('yY7yau9j3xk', 'Data Science SQL Scenario Based Interview Question [Facebook] - Date Manipulation', datetime.date(2021, 7, 20), 6347, 169, 0, 28))\n"
          ]
        }
      ],
      "source": [
        "#view data in db table\n",
        "\n",
        "curr.execute(\"SELECT * FROM videos\")\n",
        "print(curr.fetchall())"
      ]
    },
    {
      "cell_type": "markdown",
      "metadata": {
        "id": "WyoqMYQ7jheU"
      },
      "source": [
        "Note: Clearly the counts have changed after few weeks. So our data is being added and updated as expected"
      ]
    }
  ],
  "metadata": {
    "kernelspec": {
      "display_name": "Python 3",
      "language": "python",
      "name": "python3"
    },
    "language_info": {
      "codemirror_mode": {
        "name": "ipython",
        "version": 3
      },
      "file_extension": ".py",
      "mimetype": "text/x-python",
      "name": "python",
      "nbconvert_exporter": "python",
      "pygments_lexer": "ipython3",
      "version": "3.8.3"
    },
    "colab": {
      "name": "ImportingDFtomysqlDB.ipynb",
      "provenance": [],
      "collapsed_sections": [],
      "include_colab_link": true
    }
  },
  "nbformat": 4,
  "nbformat_minor": 0
}